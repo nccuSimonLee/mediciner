{
 "cells": [
  {
   "cell_type": "code",
   "execution_count": 1,
   "metadata": {},
   "outputs": [],
   "source": [
    "import torch\n",
    "from tokenizers import BertWordPieceTokenizer\n",
    "from transformers import BertForTokenClassification\n",
    "import sys\n",
    "sys.path.append('../')\n",
    "from mediciner.dataset import read_corpus, read_ents_table, BertProcessor\n",
    "from mediciner.extractor import BertExtractor"
   ]
  },
  {
   "cell_type": "code",
   "execution_count": 2,
   "metadata": {},
   "outputs": [],
   "source": [
    "max_input_len = 126\n",
    "tokenizer = BertWordPieceTokenizer('../vocab/bert-base-chinese-vocab.txt')\n",
    "processor = BertProcessor(max_input_len, tokenizer, mode='uni-sent')\n",
    "bert_model = BertForTokenClassification.from_pretrained('../model/model11')\n",
    "bert_extractor = BertExtractor(bert_model, tokenizer, max_input_len)"
   ]
  },
  {
   "cell_type": "code",
   "execution_count": 3,
   "metadata": {},
   "outputs": [
    {
     "name": "stderr",
     "output_type": "stream",
     "text": [
      "convert default corpus to default examples: 100%|██████████| 200/200 [00:00<00:00, 201.68it/s]\n"
     ]
    }
   ],
   "source": [
    "ents_table = read_ents_table('../data/original/train_entities.csv')\n",
    "corpus = read_corpus('../data/dialogue_lined/train')\n",
    "examples = processor.convert_corpus_to_examples(corpus)"
   ]
  },
  {
   "cell_type": "code",
   "execution_count": 4,
   "metadata": {},
   "outputs": [],
   "source": [
    "batch_size = 8\n",
    "entities = bert_extractor.extract_entities([example.content for example in examples[:batch_size]])"
   ]
  },
  {
   "cell_type": "code",
   "execution_count": 6,
   "metadata": {},
   "outputs": [
    {
     "data": {
      "text/plain": [
       "[[],\n",
       " [],\n",
       " [],\n",
       " [],\n",
       " [],\n",
       " [Entity(start=6, end=8, text='前天', type='time'),\n",
       "  Entity(start=12, end=14, text='前天', type='time')],\n",
       " [],\n",
       " []]"
      ]
     },
     "execution_count": 6,
     "metadata": {},
     "output_type": "execute_result"
    }
   ],
   "source": [
    "entities"
   ]
  }
 ],
 "metadata": {
  "kernelspec": {
   "display_name": "Python 3",
   "language": "python",
   "name": "python3"
  },
  "language_info": {
   "codemirror_mode": {
    "name": "ipython",
    "version": 3
   },
   "file_extension": ".py",
   "mimetype": "text/x-python",
   "name": "python",
   "nbconvert_exporter": "python",
   "pygments_lexer": "ipython3",
   "version": "3.6.10"
  }
 },
 "nbformat": 4,
 "nbformat_minor": 4
}
